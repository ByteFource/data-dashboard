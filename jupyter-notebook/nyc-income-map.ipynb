{
 "cells": [
  {
   "cell_type": "code",
   "execution_count": 1,
   "metadata": {},
   "outputs": [
    {
     "name": "stderr",
     "output_type": "stream",
     "text": [
      "/Users/david/opt/anaconda3/lib/python3.8/site-packages/pandas/core/computation/expressions.py:20: UserWarning: Pandas requires version '2.7.3' or newer of 'numexpr' (version '2.7.1' currently installed).\n",
      "  from pandas.core.computation.check import NUMEXPR_INSTALLED\n"
     ]
    }
   ],
   "source": [
    "import pandas as pd\n",
    "import numpy as np\n",
    "import matplotlib.pyplot as plt\n",
    "import seaborn as sns\n",
    "import scipy.stats as stats\n",
    "from ipyleaflet import (Map, GeoJSON, Marker, Popup)\n",
    "from ipywidgets import HTML\n",
    "import geopandas as gpd\n",
    "from shapely.geometry import Point\n",
    "import os\n",
    "import json\n",
    "import random\n",
    "import requests\n",
    "\n",
    "\n"
   ]
  },
  {
   "cell_type": "code",
   "execution_count": 2,
   "metadata": {},
   "outputs": [
    {
     "data": {
      "text/html": [
       "<div>\n",
       "<style scoped>\n",
       "    .dataframe tbody tr th:only-of-type {\n",
       "        vertical-align: middle;\n",
       "    }\n",
       "\n",
       "    .dataframe tbody tr th {\n",
       "        vertical-align: top;\n",
       "    }\n",
       "\n",
       "    .dataframe thead th {\n",
       "        text-align: right;\n",
       "    }\n",
       "</style>\n",
       "<table border=\"1\" class=\"dataframe\">\n",
       "  <thead>\n",
       "    <tr style=\"text-align: right;\">\n",
       "      <th></th>\n",
       "      <th>geoid</th>\n",
       "      <th>name</th>\n",
       "      <th>B19013001</th>\n",
       "      <th>B19013001, Error</th>\n",
       "    </tr>\n",
       "  </thead>\n",
       "  <tbody>\n",
       "    <tr>\n",
       "      <th>0</th>\n",
       "      <td>86000US10001</td>\n",
       "      <td>10001</td>\n",
       "      <td>101409.0</td>\n",
       "      <td>11816.0</td>\n",
       "    </tr>\n",
       "    <tr>\n",
       "      <th>1</th>\n",
       "      <td>86000US10002</td>\n",
       "      <td>10002</td>\n",
       "      <td>37093.0</td>\n",
       "      <td>3148.0</td>\n",
       "    </tr>\n",
       "    <tr>\n",
       "      <th>2</th>\n",
       "      <td>86000US10003</td>\n",
       "      <td>10003</td>\n",
       "      <td>137533.0</td>\n",
       "      <td>10077.0</td>\n",
       "    </tr>\n",
       "    <tr>\n",
       "      <th>3</th>\n",
       "      <td>86000US10004</td>\n",
       "      <td>10004</td>\n",
       "      <td>216017.0</td>\n",
       "      <td>10041.0</td>\n",
       "    </tr>\n",
       "    <tr>\n",
       "      <th>4</th>\n",
       "      <td>86000US10005</td>\n",
       "      <td>10005</td>\n",
       "      <td>197188.0</td>\n",
       "      <td>17558.0</td>\n",
       "    </tr>\n",
       "  </tbody>\n",
       "</table>\n",
       "</div>"
      ],
      "text/plain": [
       "          geoid   name  B19013001  B19013001, Error\n",
       "0  86000US10001  10001   101409.0           11816.0\n",
       "1  86000US10002  10002    37093.0            3148.0\n",
       "2  86000US10003  10003   137533.0           10077.0\n",
       "3  86000US10004  10004   216017.0           10041.0\n",
       "4  86000US10005  10005   197188.0           17558.0"
      ]
     },
     "execution_count": 2,
     "metadata": {},
     "output_type": "execute_result"
    }
   ],
   "source": [
    "# this df is for csv file of household income. \n",
    "\n",
    "df = pd.read_csv('../data/census-data/acs2021.csv')\n",
    "df.head()"
   ]
  },
  {
   "cell_type": "code",
   "execution_count": 3,
   "metadata": {},
   "outputs": [
    {
     "data": {
      "text/plain": [
       "0"
      ]
     },
     "execution_count": 3,
     "metadata": {},
     "output_type": "execute_result"
    }
   ],
   "source": [
    "df.duplicated().sum()\n"
   ]
  },
  {
   "cell_type": "code",
   "execution_count": 4,
   "metadata": {},
   "outputs": [
    {
     "data": {
      "text/plain": [
       "geoid                0\n",
       "name                 0\n",
       "B19013001           30\n",
       "B19013001, Error    32\n",
       "dtype: int64"
      ]
     },
     "execution_count": 4,
     "metadata": {},
     "output_type": "execute_result"
    }
   ],
   "source": [
    "df.isnull().sum()"
   ]
  },
  {
   "cell_type": "code",
   "execution_count": 5,
   "metadata": {},
   "outputs": [
    {
     "data": {
      "text/plain": [
       "geoid               0\n",
       "name                0\n",
       "B19013001           0\n",
       "B19013001, Error    0\n",
       "dtype: int64"
      ]
     },
     "execution_count": 5,
     "metadata": {},
     "output_type": "execute_result"
    }
   ],
   "source": [
    "## Drop null values + sanity check\n",
    "df = df.dropna()\n",
    "df.isnull().sum()"
   ]
  },
  {
   "cell_type": "code",
   "execution_count": 12,
   "metadata": {},
   "outputs": [
    {
     "ename": "DriverError",
     "evalue": "your_geojson_file.geojson: No such file or directory",
     "output_type": "error",
     "traceback": [
      "\u001b[0;31m---------------------------------------------------------------------------\u001b[0m",
      "\u001b[0;31mCPLE_OpenFailedError\u001b[0m                      Traceback (most recent call last)",
      "\u001b[0;32mfiona/ogrext.pyx\u001b[0m in \u001b[0;36mfiona.ogrext.gdal_open_vector\u001b[0;34m()\u001b[0m\n",
      "\u001b[0;32mfiona/_err.pyx\u001b[0m in \u001b[0;36mfiona._err.exc_wrap_pointer\u001b[0;34m()\u001b[0m\n",
      "\u001b[0;31mCPLE_OpenFailedError\u001b[0m: your_geojson_file.geojson: No such file or directory",
      "\nDuring handling of the above exception, another exception occurred:\n",
      "\u001b[0;31mDriverError\u001b[0m                               Traceback (most recent call last)",
      "\u001b[0;32m<ipython-input-12-5a98c5cfa277>\u001b[0m in \u001b[0;36m<module>\u001b[0;34m\u001b[0m\n\u001b[1;32m    105\u001b[0m \u001b[0;34m\u001b[0m\u001b[0m\n\u001b[1;32m    106\u001b[0m \u001b[0;31m# Read the GeoJSON file\u001b[0m\u001b[0;34m\u001b[0m\u001b[0;34m\u001b[0m\u001b[0;34m\u001b[0m\u001b[0m\n\u001b[0;32m--> 107\u001b[0;31m \u001b[0mgdf\u001b[0m \u001b[0;34m=\u001b[0m \u001b[0mgpd\u001b[0m\u001b[0;34m.\u001b[0m\u001b[0mread_file\u001b[0m\u001b[0;34m(\u001b[0m\u001b[0;34m'your_geojson_file.geojson'\u001b[0m\u001b[0;34m)\u001b[0m\u001b[0;34m\u001b[0m\u001b[0;34m\u001b[0m\u001b[0m\n\u001b[0m\u001b[1;32m    108\u001b[0m \u001b[0;34m\u001b[0m\u001b[0m\n\u001b[1;32m    109\u001b[0m \u001b[0;31m# Calculate average income per zip code\u001b[0m\u001b[0;34m\u001b[0m\u001b[0;34m\u001b[0m\u001b[0;34m\u001b[0m\u001b[0m\n",
      "\u001b[0;32m~/opt/anaconda3/lib/python3.8/site-packages/geopandas/io/file.py\u001b[0m in \u001b[0;36m_read_file\u001b[0;34m(filename, bbox, mask, rows, engine, **kwargs)\u001b[0m\n\u001b[1;32m    279\u001b[0m             \u001b[0mpath_or_bytes\u001b[0m \u001b[0;34m=\u001b[0m \u001b[0mfilename\u001b[0m\u001b[0;34m\u001b[0m\u001b[0;34m\u001b[0m\u001b[0m\n\u001b[1;32m    280\u001b[0m \u001b[0;34m\u001b[0m\u001b[0m\n\u001b[0;32m--> 281\u001b[0;31m         return _read_file_fiona(\n\u001b[0m\u001b[1;32m    282\u001b[0m             \u001b[0mpath_or_bytes\u001b[0m\u001b[0;34m,\u001b[0m \u001b[0mfrom_bytes\u001b[0m\u001b[0;34m,\u001b[0m \u001b[0mbbox\u001b[0m\u001b[0;34m=\u001b[0m\u001b[0mbbox\u001b[0m\u001b[0;34m,\u001b[0m \u001b[0mmask\u001b[0m\u001b[0;34m=\u001b[0m\u001b[0mmask\u001b[0m\u001b[0;34m,\u001b[0m \u001b[0mrows\u001b[0m\u001b[0;34m=\u001b[0m\u001b[0mrows\u001b[0m\u001b[0;34m,\u001b[0m \u001b[0;34m**\u001b[0m\u001b[0mkwargs\u001b[0m\u001b[0;34m\u001b[0m\u001b[0;34m\u001b[0m\u001b[0m\n\u001b[1;32m    283\u001b[0m         )\n",
      "\u001b[0;32m~/opt/anaconda3/lib/python3.8/site-packages/geopandas/io/file.py\u001b[0m in \u001b[0;36m_read_file_fiona\u001b[0;34m(path_or_bytes, from_bytes, bbox, mask, rows, where, **kwargs)\u001b[0m\n\u001b[1;32m    320\u001b[0m \u001b[0;34m\u001b[0m\u001b[0m\n\u001b[1;32m    321\u001b[0m     \u001b[0;32mwith\u001b[0m \u001b[0mfiona_env\u001b[0m\u001b[0;34m(\u001b[0m\u001b[0;34m)\u001b[0m\u001b[0;34m:\u001b[0m\u001b[0;34m\u001b[0m\u001b[0;34m\u001b[0m\u001b[0m\n\u001b[0;32m--> 322\u001b[0;31m         \u001b[0;32mwith\u001b[0m \u001b[0mreader\u001b[0m\u001b[0;34m(\u001b[0m\u001b[0mpath_or_bytes\u001b[0m\u001b[0;34m,\u001b[0m \u001b[0;34m**\u001b[0m\u001b[0mkwargs\u001b[0m\u001b[0;34m)\u001b[0m \u001b[0;32mas\u001b[0m \u001b[0mfeatures\u001b[0m\u001b[0;34m:\u001b[0m\u001b[0;34m\u001b[0m\u001b[0;34m\u001b[0m\u001b[0m\n\u001b[0m\u001b[1;32m    323\u001b[0m             \u001b[0mcrs\u001b[0m \u001b[0;34m=\u001b[0m \u001b[0mfeatures\u001b[0m\u001b[0;34m.\u001b[0m\u001b[0mcrs_wkt\u001b[0m\u001b[0;34m\u001b[0m\u001b[0;34m\u001b[0m\u001b[0m\n\u001b[1;32m    324\u001b[0m             \u001b[0;31m# attempt to get EPSG code\u001b[0m\u001b[0;34m\u001b[0m\u001b[0;34m\u001b[0m\u001b[0;34m\u001b[0m\u001b[0m\n",
      "\u001b[0;32m~/opt/anaconda3/lib/python3.8/site-packages/fiona/env.py\u001b[0m in \u001b[0;36mwrapper\u001b[0;34m(*args, **kwds)\u001b[0m\n\u001b[1;32m    455\u001b[0m \u001b[0;34m\u001b[0m\u001b[0m\n\u001b[1;32m    456\u001b[0m         \u001b[0;32mwith\u001b[0m \u001b[0menv_ctor\u001b[0m\u001b[0;34m(\u001b[0m\u001b[0msession\u001b[0m\u001b[0;34m=\u001b[0m\u001b[0msession\u001b[0m\u001b[0;34m)\u001b[0m\u001b[0;34m:\u001b[0m\u001b[0;34m\u001b[0m\u001b[0;34m\u001b[0m\u001b[0m\n\u001b[0;32m--> 457\u001b[0;31m             \u001b[0;32mreturn\u001b[0m \u001b[0mf\u001b[0m\u001b[0;34m(\u001b[0m\u001b[0;34m*\u001b[0m\u001b[0margs\u001b[0m\u001b[0;34m,\u001b[0m \u001b[0;34m**\u001b[0m\u001b[0mkwds\u001b[0m\u001b[0;34m)\u001b[0m\u001b[0;34m\u001b[0m\u001b[0;34m\u001b[0m\u001b[0m\n\u001b[0m\u001b[1;32m    458\u001b[0m \u001b[0;34m\u001b[0m\u001b[0m\n\u001b[1;32m    459\u001b[0m     \u001b[0;32mreturn\u001b[0m \u001b[0mwrapper\u001b[0m\u001b[0;34m\u001b[0m\u001b[0;34m\u001b[0m\u001b[0m\n",
      "\u001b[0;32m~/opt/anaconda3/lib/python3.8/site-packages/fiona/__init__.py\u001b[0m in \u001b[0;36mopen\u001b[0;34m(fp, mode, driver, schema, crs, encoding, layer, vfs, enabled_drivers, crs_wkt, allow_unsupported_drivers, **kwargs)\u001b[0m\n\u001b[1;32m    290\u001b[0m \u001b[0;34m\u001b[0m\u001b[0m\n\u001b[1;32m    291\u001b[0m         \u001b[0;32mif\u001b[0m \u001b[0mmode\u001b[0m \u001b[0;32min\u001b[0m \u001b[0;34m(\u001b[0m\u001b[0;34m\"a\"\u001b[0m\u001b[0;34m,\u001b[0m \u001b[0;34m\"r\"\u001b[0m\u001b[0;34m)\u001b[0m\u001b[0;34m:\u001b[0m\u001b[0;34m\u001b[0m\u001b[0;34m\u001b[0m\u001b[0m\n\u001b[0;32m--> 292\u001b[0;31m             colxn = Collection(\n\u001b[0m\u001b[1;32m    293\u001b[0m                 \u001b[0mpath\u001b[0m\u001b[0;34m,\u001b[0m\u001b[0;34m\u001b[0m\u001b[0;34m\u001b[0m\u001b[0m\n\u001b[1;32m    294\u001b[0m                 \u001b[0mmode\u001b[0m\u001b[0;34m,\u001b[0m\u001b[0;34m\u001b[0m\u001b[0;34m\u001b[0m\u001b[0m\n",
      "\u001b[0;32m~/opt/anaconda3/lib/python3.8/site-packages/fiona/collection.py\u001b[0m in \u001b[0;36m__init__\u001b[0;34m(self, path, mode, driver, schema, crs, encoding, layer, vsi, archive, enabled_drivers, crs_wkt, ignore_fields, ignore_geometry, include_fields, wkt_version, allow_unsupported_drivers, **kwargs)\u001b[0m\n\u001b[1;32m    241\u001b[0m             \u001b[0;32mif\u001b[0m \u001b[0mself\u001b[0m\u001b[0;34m.\u001b[0m\u001b[0mmode\u001b[0m \u001b[0;34m==\u001b[0m \u001b[0;34m\"r\"\u001b[0m\u001b[0;34m:\u001b[0m\u001b[0;34m\u001b[0m\u001b[0;34m\u001b[0m\u001b[0m\n\u001b[1;32m    242\u001b[0m                 \u001b[0mself\u001b[0m\u001b[0;34m.\u001b[0m\u001b[0msession\u001b[0m \u001b[0;34m=\u001b[0m \u001b[0mSession\u001b[0m\u001b[0;34m(\u001b[0m\u001b[0;34m)\u001b[0m\u001b[0;34m\u001b[0m\u001b[0;34m\u001b[0m\u001b[0m\n\u001b[0;32m--> 243\u001b[0;31m                 \u001b[0mself\u001b[0m\u001b[0;34m.\u001b[0m\u001b[0msession\u001b[0m\u001b[0;34m.\u001b[0m\u001b[0mstart\u001b[0m\u001b[0;34m(\u001b[0m\u001b[0mself\u001b[0m\u001b[0;34m,\u001b[0m \u001b[0;34m**\u001b[0m\u001b[0mkwargs\u001b[0m\u001b[0;34m)\u001b[0m\u001b[0;34m\u001b[0m\u001b[0;34m\u001b[0m\u001b[0m\n\u001b[0m\u001b[1;32m    244\u001b[0m             \u001b[0;32melif\u001b[0m \u001b[0mself\u001b[0m\u001b[0;34m.\u001b[0m\u001b[0mmode\u001b[0m \u001b[0;32min\u001b[0m \u001b[0;34m(\u001b[0m\u001b[0;34m\"a\"\u001b[0m\u001b[0;34m,\u001b[0m \u001b[0;34m\"w\"\u001b[0m\u001b[0;34m)\u001b[0m\u001b[0;34m:\u001b[0m\u001b[0;34m\u001b[0m\u001b[0;34m\u001b[0m\u001b[0m\n\u001b[1;32m    245\u001b[0m                 \u001b[0mself\u001b[0m\u001b[0;34m.\u001b[0m\u001b[0msession\u001b[0m \u001b[0;34m=\u001b[0m \u001b[0mWritingSession\u001b[0m\u001b[0;34m(\u001b[0m\u001b[0;34m)\u001b[0m\u001b[0;34m\u001b[0m\u001b[0;34m\u001b[0m\u001b[0m\n",
      "\u001b[0;32mfiona/ogrext.pyx\u001b[0m in \u001b[0;36mfiona.ogrext.Session.start\u001b[0;34m()\u001b[0m\n",
      "\u001b[0;32mfiona/ogrext.pyx\u001b[0m in \u001b[0;36mfiona.ogrext.gdal_open_vector\u001b[0;34m()\u001b[0m\n",
      "\u001b[0;31mDriverError\u001b[0m: your_geojson_file.geojson: No such file or directory"
     ]
    }
   ],
   "source": [
    "# Create map with geoJSON from censusReporter\n",
    "\n",
    "with open('/Users/david/Documents/CunyTechPrep/mta-project/data-dashboard/data/census-data/acs2021_5yr_B19013_86000US11357.geojson', 'r') as f:\n",
    "    data = json.load(f)\n",
    "\n",
    "gdf = gpd.read_file('/Users/david/Documents/CunyTechPrep/mta-project/data-dashboard/data/census-data/acs2021_5yr_B19013_86000US11357.geojson')\n",
    "\n",
    "# def random_color(feature):\n",
    "#     return {\n",
    "#         'color': 'black',\n",
    "#         'fillColor': random.choice(['red', 'yellow', 'green', 'orange']),\n",
    "#     }\n",
    "\n",
    "# def income_color(feature):\n",
    "#     # Access income data from the feature properties (assuming the income data is stored in a property named 'income')\n",
    "#     income = feature['properties']['income']\n",
    "\n",
    "#     # Define color ranges based on income levels\n",
    "#     if income < 30000:\n",
    "#         return {'fillColor': 'red'}  # Low income\n",
    "#     elif 30000 <= income < 50000:\n",
    "#         return {'fillColor': 'yellow'}  # Moderate income\n",
    "#     else:\n",
    "#         return {'fillColor': 'green'}  # Higher income\n",
    "\n",
    "# m = Map(center=([40.730610, -73.935242]), zoom=10)\n",
    "\n",
    "# geo_json = GeoJSON(\n",
    "#     data=data,\n",
    "#     style={\n",
    "#         'opacity':1, 'dashArray': '9', 'fillOpacity': 0.1, 'weight': 1\n",
    "#     },\n",
    "#     hover_style={\n",
    "#         'color': 'white', 'dashArray': '0', 'fillOpacity': 0.5\n",
    "#     },\n",
    "#     style_callback=income_color\n",
    "# )\n",
    "# m.add_layer(geo_json)\n",
    "\n",
    "# # Allow user to select radius on map\n",
    "# dc = DrawControl(circle={'shapeOptions':{'color':'#0000FF'}})\n",
    "# m.add_control(dc)\n",
    "# m\n",
    "\n",
    "## ---------------------------------- version 2 with uncentered centroids (markers for zipcodes)\n",
    "\n",
    "# center = (40.7128, -74.0060)\n",
    "# m = Map(center=center, zoom=10)\n",
    "\n",
    "# Add GeoJSON layer\n",
    "# geo_json = GeoJSON(data=data)\n",
    "# m.add_layer(geo_json)\n",
    "\n",
    "# Iterate through GeoJSON features to create markers\n",
    "\n",
    "# for feature in data['features']:\n",
    "#     # Extract zip code and income data\n",
    "#     zipcode = feature['properties']['geoid']\n",
    "#     income = feature['properties']['B19013001']\n",
    "\n",
    "#     # Get the coordinates for the marker\n",
    "#     coordinates = feature['geometry']['coordinates'][0][0][0]  # Change this based on your data structure\n",
    "\n",
    "#     # Create marker and popup\n",
    "#     marker = Marker(location=(coordinates[1], coordinates[0]))  # Latitude, Longitude\n",
    "#     popup = Popup(\n",
    "#         location=(coordinates[1], coordinates[0]),\n",
    "#         child=HTML(value=f\"<b>Zip Code:</b> {zipcode}<br><b>Income:</b> ${income}\")\n",
    "#     )\n",
    "#     marker.popup = popup\n",
    "#     m.add_layer(marker)\n",
    "\n",
    "# m\n",
    "\n",
    "## ------------------  version 3 below with centroids for markers\n",
    "\n",
    "\n",
    "# gdf['centroid'] = gdf['geometry'].centroid\n",
    "\n",
    "# # Create a map\n",
    "# m = Map(center=(40.7128, -74.0060), zoom=10)\n",
    "\n",
    "# # Iterate through GeoJSON features to create markers at centroids\n",
    "# for index, row in gdf.iterrows():\n",
    "#     zipcode = row['properties']['geoid']  # Replace 'ZIP_CODE' with the column name of zip codes in your GeoDataFrame\n",
    "#     income = row['properties']['B19013001']  # Replace 'INCOME' with the column name of income in your GeoDataFrame\n",
    "\n",
    "#     # Get centroid coordinates\n",
    "#     centroid = row['centroid']\n",
    "#     lon, lat = centroid.x, centroid.y\n",
    "\n",
    "#     # Create marker and popup\n",
    "#     marker = Marker(location=(lat, lon))\n",
    "#     popup = Popup(\n",
    "#         location=(lat, lon),\n",
    "#         child=HTML(value=f\"<b>Zip Code:</b> {zipcode}<br><b>Income:</b> ${income}\")\n",
    "#     )\n",
    "#     marker.popup = popup\n",
    "#     m.add_layer(marker)\n",
    "\n",
    "# m\n",
    "\n",
    "\n",
    "## Version 4 ------------\n",
    "\n",
    "# Read the GeoJSON file\n",
    "gdf = gpd.read_file('your_geojson_file.geojson')\n",
    "\n",
    "# Calculate average income per zip code\n",
    "average_income = gdf.groupby('name')['B19013001'].mean().reset_index()\n",
    "\n",
    "# Calculate centroids for each zip code\n",
    "gdf['centroid'] = gdf['geometry'].centroid\n",
    "\n",
    "# Create a map\n",
    "m = Map(center=(40.7128, -74.0060), zoom=10)\n",
    "\n",
    "# Plot markers with popups\n",
    "for idx, row in gdf.iterrows():\n",
    "    # Get the centroid coordinates\n",
    "    lon, lat = row['centroid'].x, row['centroid'].y\n",
    "    \n",
    "    # Find the average income for the current zip code\n",
    "    income = average_income[average_income['name'] == row['name']]['B19013001'].values[0]\n",
    "    \n",
    "    # Create marker and popup\n",
    "    marker = Marker(location=(lat, lon))\n",
    "    popup = Popup(location=(lat, lon), child=f\"Avg. Income: ${income:.2f}\")\n",
    "    marker.popup = popup\n",
    "    m.add_layer(marker)\n",
    "\n",
    "# Display the map\n",
    "m\n",
    "\n"
   ]
  }
 ],
 "metadata": {
  "kernelspec": {
   "display_name": "Python 3",
   "language": "python",
   "name": "python3"
  },
  "language_info": {
   "codemirror_mode": {
    "name": "ipython",
    "version": 3
   },
   "file_extension": ".py",
   "mimetype": "text/x-python",
   "name": "python",
   "nbconvert_exporter": "python",
   "pygments_lexer": "ipython3",
   "version": "3.8.3"
  }
 },
 "nbformat": 4,
 "nbformat_minor": 2
}
