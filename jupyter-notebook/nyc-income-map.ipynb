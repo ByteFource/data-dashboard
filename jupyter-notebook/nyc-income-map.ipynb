{
 "cells": [
  {
   "cell_type": "code",
   "execution_count": 9,
   "metadata": {},
   "outputs": [],
   "source": [
    "import pandas as pd\n",
    "import numpy as np\n",
    "import matplotlib.pyplot as plt\n",
    "import seaborn as sns\n",
    "import scipy.stats as stats\n",
    "from ipyleaflet import (Map, GeoJSON, Marker, Popup)\n",
    "from ipywidgets import HTML\n",
    "import os\n",
    "import json\n",
    "import random\n",
    "import requests\n",
    "\n",
    "\n"
   ]
  },
  {
   "cell_type": "code",
   "execution_count": 11,
   "metadata": {},
   "outputs": [
    {
     "data": {
      "text/html": [
       "<div>\n",
       "<style scoped>\n",
       "    .dataframe tbody tr th:only-of-type {\n",
       "        vertical-align: middle;\n",
       "    }\n",
       "\n",
       "    .dataframe tbody tr th {\n",
       "        vertical-align: top;\n",
       "    }\n",
       "\n",
       "    .dataframe thead th {\n",
       "        text-align: right;\n",
       "    }\n",
       "</style>\n",
       "<table border=\"1\" class=\"dataframe\">\n",
       "  <thead>\n",
       "    <tr style=\"text-align: right;\">\n",
       "      <th></th>\n",
       "      <th>geoid</th>\n",
       "      <th>name</th>\n",
       "      <th>B19013001</th>\n",
       "      <th>B19013001, Error</th>\n",
       "    </tr>\n",
       "  </thead>\n",
       "  <tbody>\n",
       "    <tr>\n",
       "      <th>0</th>\n",
       "      <td>86000US10001</td>\n",
       "      <td>10001</td>\n",
       "      <td>101409.0</td>\n",
       "      <td>11816.0</td>\n",
       "    </tr>\n",
       "    <tr>\n",
       "      <th>1</th>\n",
       "      <td>86000US10002</td>\n",
       "      <td>10002</td>\n",
       "      <td>37093.0</td>\n",
       "      <td>3148.0</td>\n",
       "    </tr>\n",
       "    <tr>\n",
       "      <th>2</th>\n",
       "      <td>86000US10003</td>\n",
       "      <td>10003</td>\n",
       "      <td>137533.0</td>\n",
       "      <td>10077.0</td>\n",
       "    </tr>\n",
       "    <tr>\n",
       "      <th>3</th>\n",
       "      <td>86000US10004</td>\n",
       "      <td>10004</td>\n",
       "      <td>216017.0</td>\n",
       "      <td>10041.0</td>\n",
       "    </tr>\n",
       "    <tr>\n",
       "      <th>4</th>\n",
       "      <td>86000US10005</td>\n",
       "      <td>10005</td>\n",
       "      <td>197188.0</td>\n",
       "      <td>17558.0</td>\n",
       "    </tr>\n",
       "  </tbody>\n",
       "</table>\n",
       "</div>"
      ],
      "text/plain": [
       "          geoid   name  B19013001  B19013001, Error\n",
       "0  86000US10001  10001   101409.0           11816.0\n",
       "1  86000US10002  10002    37093.0            3148.0\n",
       "2  86000US10003  10003   137533.0           10077.0\n",
       "3  86000US10004  10004   216017.0           10041.0\n",
       "4  86000US10005  10005   197188.0           17558.0"
      ]
     },
     "execution_count": 11,
     "metadata": {},
     "output_type": "execute_result"
    }
   ],
   "source": [
    "# this df is for csv file of household income.\n",
    "\n",
    "# df = pd.read_csv('../data/census-data/average-income-2021.csv')\n",
    "# df.head()"
   ]
  },
  {
   "cell_type": "code",
   "execution_count": 12,
   "metadata": {},
   "outputs": [
    {
     "data": {
      "text/plain": [
       "0"
      ]
     },
     "execution_count": 12,
     "metadata": {},
     "output_type": "execute_result"
    }
   ],
   "source": [
    "df.duplicated().sum()\n"
   ]
  },
  {
   "cell_type": "code",
   "execution_count": 13,
   "metadata": {},
   "outputs": [
    {
     "data": {
      "text/plain": [
       "geoid                0\n",
       "name                 0\n",
       "B19013001           30\n",
       "B19013001, Error    32\n",
       "dtype: int64"
      ]
     },
     "execution_count": 13,
     "metadata": {},
     "output_type": "execute_result"
    }
   ],
   "source": [
    "df.isnull().sum()"
   ]
  },
  {
   "cell_type": "code",
   "execution_count": 14,
   "metadata": {},
   "outputs": [
    {
     "data": {
      "text/plain": [
       "geoid               0\n",
       "name                0\n",
       "B19013001           0\n",
       "B19013001, Error    0\n",
       "dtype: int64"
      ]
     },
     "execution_count": 14,
     "metadata": {},
     "output_type": "execute_result"
    }
   ],
   "source": [
    "## Drop null values + sanity check\n",
    "df = df.dropna()\n",
    "df.isnull().sum()"
   ]
  },
  {
   "cell_type": "code",
   "execution_count": 15,
   "metadata": {},
   "outputs": [
    {
     "data": {
      "application/vnd.jupyter.widget-view+json": {
       "model_id": "be93bba4381b4917810d46c953595de2",
       "version_major": 2,
       "version_minor": 0
      },
      "text/plain": [
       "Map(center=[40.7128, -74.006], controls=(ZoomControl(options=['position', 'zoom_in_text', 'zoom_in_title', 'zo…"
      ]
     },
     "execution_count": 15,
     "metadata": {},
     "output_type": "execute_result"
    }
   ],
   "source": [
    "# Create map with geoJSON from censusReporter\n",
    "with open('../data/census-data/average-income-2021.geojson', 'r') as f:\n",
    "    data = json.load(f)\n",
    "\n",
    "center = (40.7128, -74.0060)\n",
    "m = Map(center=center, zoom=10)\n",
    "\n",
    "# Add GeoJSON layer\n",
    "geo_json = GeoJSON(data=data)\n",
    "m.add_layer(geo_json)\n",
    "\n",
    "# Iterate through GeoJSON features to create markers\n",
    "\n",
    "for feature in data['features']:\n",
    "    # Extract zip code and income data\n",
    "    zipcode = feature['properties']['geoid']\n",
    "    income = feature['properties']['B19013001']\n",
    "\n",
    "    # Get the coordinates for the marker\n",
    "    coordinates = feature['geometry']['coordinates'][0][0][0]  # Change this based on your data structure\n",
    "\n",
    "    # Create marker and popup\n",
    "    marker = Marker(location=(coordinates[1], coordinates[0]))  # Latitude, Longitude\n",
    "    popup = Popup(\n",
    "        location=(coordinates[1], coordinates[0]),\n",
    "        child=HTML(value=f\"<b>Zip Code:</b> {zipcode}<br><b>Income:</b> ${income}\")\n",
    "    )\n",
    "    marker.popup = popup\n",
    "    m.add_layer(marker)\n",
    "\n",
    "m\n",
    "\n",
    "\n"
   ]
  }
 ],
 "metadata": {
  "kernelspec": {
   "display_name": "Python 3",
   "language": "python",
   "name": "python3"
  },
  "language_info": {
   "codemirror_mode": {
    "name": "ipython",
    "version": 3
   },
   "file_extension": ".py",
   "mimetype": "text/x-python",
   "name": "python",
   "nbconvert_exporter": "python",
   "pygments_lexer": "ipython3",
   "version": "3.8.3"
  }
 },
 "nbformat": 4,
 "nbformat_minor": 2
}
